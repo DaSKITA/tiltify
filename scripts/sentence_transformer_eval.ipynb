{
 "cells": [
  {
   "cell_type": "code",
   "execution_count": null,
   "metadata": {},
   "outputs": [],
   "source": []
  },
  {
   "cell_type": "markdown",
   "metadata": {},
   "source": [
    "# Sentence Transformer Evaluation"
   ]
  },
  {
   "cell_type": "code",
   "execution_count": 30,
   "metadata": {},
   "outputs": [],
   "source": [
    "from sentence_transformers import SentenceTransformer, util\n",
    "import os\n",
    "from triplet_semantic_similarity_sbert import form_triplets, load_doc_col, split_doc_col, form_triplets\n",
    "from enum import Enum\n",
    "import torch\n",
    "from tiltify.config import Path\n",
    "from tqdm import tqdm\n",
    "\n",
    "\n",
    "TOP_K=10\n",
    "doc_col = load_doc_col()\n",
    "\n",
    "queries = {(1,\n",
    "            \"Right To Information\"): \"Das Bestehen eines Rechts auf Auskunft seitens des Verantwortlichen über die \"\n",
    "                                     \"betreffenden personenbezogenen Daten.\",\n",
    "           (2,\n",
    "            \"Right To Rectification Or Deletion\"): \"Die betroffene Person hat das Recht, von dem Verantwortlichen \"\n",
    "                                                   \"unverzüglich die Berichtigung sie betreffender unrichtiger \"\n",
    "                                                   \"personenbezogener Daten zu verlangen. Die betroffene Person hat \"\n",
    "                                                   \"das Recht, von dem Verantwortlichen zu verlangen, dass sie \"\n",
    "                                                   \"betreffende personenbezogene Daten unverzüglich gelöscht werden.\",\n",
    "           (3,\n",
    "            \"Right To Data Portability\"): \"Die betroffene Person hat das Recht, die sie betreffenden personenbezogenen \"\n",
    "                                          \"Daten, die sie einem Verantwortlichen bereitgestellt hat, in einem \"\n",
    "                                          \"strukturierten, gängigen und maschinenlesbaren Format zu erhalten.\",\n",
    "           (4, \"Right To Withdraw Consent\"): \"Das Bestehen eines Rechts, die Einwilligung jederzeit zu widerrufen.\",\n",
    "           (5, \"Right To Complain\"): \"Das Bestehen eines Beschwerderechts bei einer Aufsichtsbehörde.\"}\n",
    "\n",
    "query_names = {\n",
    "    1: \"Right To Information\",\n",
    "    2: \"Right To Rectification Or Deletion\",\n",
    "    3: \"Right To Data Portability\",\n",
    "    4: \"Right To Withdraw Consent\",\n",
    "    5: \"Right To Complain\"\n",
    "}\n",
    "\n",
    "model_paths = {\n",
    "    1: \"scripts/triplet_training/real_runs/triplet_semantic_search_results_2022-09-30_19:18:01/models/triplet_semantic_search_right_to_information\",\n",
    "    2: \"scripts/triplet_training/real_runs/triplet_semantic_search_results_2022-09-30_19:18:01/models/triplet_semantic_search_right_to_rectification_or_deletion\",\n",
    "    3: \"scripts/triplet_training/real_runs/triplet_semantic_search_results_2022-09-30_19:18:01/models/triplet_semantic_search_right_to_data_portability\",\n",
    "    4: \"scripts/triplet_training/real_runs/triplet_semantic_search_results_2022-09-30_19:18:01/models/triplet_semantic_search_right_to_withdraw_consent\",\n",
    "    5: \"scripts/triplet_training/real_runs/triplet_semantic_search_results_2022-09-30_19:18:01/models/triplet_semantic_search_right_to_complain\"\n",
    "}"
   ]
  },
  {
   "cell_type": "code",
   "execution_count": 31,
   "metadata": {},
   "outputs": [],
   "source": [
    "eval_data_per_query = {}\n",
    "for id_tuple, query in queries.items():\n",
    "    query_id = id_tuple[0]\n",
    "    query_name = id_tuple[1]\n",
    "    model_path = os.path.join(os.path.dirname(os.path.join(Path.root_path, \"scripts\")), model_paths[query_id])\n",
    "\n",
    "    train_data, test_data, train_docs, test_docs = split_doc_col(doc_col, query_id, with_docs=True)\n",
    "    # test_triplets = form_triplets(query_id, test_docs)\n",
    "    model = SentenceTransformer.load(model_path)\n",
    "    eval_data_per_query[query_id] = {\"model\": model, \"test_docs\": test_docs}\n"
   ]
  },
  {
   "cell_type": "code",
   "execution_count": 32,
   "metadata": {},
   "outputs": [
    {
     "name": "stderr",
     "output_type": "stream",
     "text": [
      "100%|██████████| 21/21 [00:21<00:00,  1.01s/it]\n",
      "100%|██████████| 22/22 [00:19<00:00,  1.15it/s]\n",
      "100%|██████████| 18/18 [00:24<00:00,  1.33s/it]\n",
      "100%|██████████| 20/20 [00:18<00:00,  1.08it/s]\n",
      "100%|██████████| 20/20 [00:27<00:00,  1.39s/it]\n"
     ]
    }
   ],
   "source": [
    "query_results = {}\n",
    "for query_ident, query in queries.items():\n",
    "    query_id = query_ident[0]\n",
    "    query_name = query_ident[1]\n",
    "    \n",
    "    eval_dict = eval_data_per_query[query_id]\n",
    "    model = eval_dict[\"model\"]\n",
    "    test_docs = eval_dict[\"test_docs\"]\n",
    "    # test_triplets = eval_dict[\"test_triplets\"]\n",
    "    encoded_query = model.encode(query, convert_to_tensor=True)\n",
    "    \n",
    "    \n",
    "    found_labels = []\n",
    "    found_blobs = []\n",
    "    scores = []\n",
    "    embedded_docs = []\n",
    "    labels = []\n",
    "    for test_doc, doc_labels in tqdm(test_docs):\n",
    "        embedded_corpus = model.encode(test_doc, convert_to_tensor=True)\n",
    "        cos_scores = util.cos_sim(encoded_query, embedded_corpus)[0]\n",
    "        top_results, indices = torch.topk(cos_scores, k=TOP_K, largest=True, sorted=True)\n",
    "        indices = indices.tolist()\n",
    "        found_doc_blobs = [test_doc[idx] for idx in indices]\n",
    "        found_doc_labels = [doc_labels[idx] for idx in indices]\n",
    "        found_blobs.append(found_doc_blobs)\n",
    "        found_labels.append(found_doc_labels)\n",
    "        scores.append(top_results.tolist())\n",
    "        embedded_docs.append(embedded_corpus)\n",
    "        labels.extend(doc_labels)\n",
    "    \n",
    "    query_results[query_id] = {\"blobs\": found_blobs, \"found_labels\": found_labels, \"scores\": scores, \"encoded_query\": encoded_query, \"embedded_docs\": embedded_docs, \"labels\": labels}"
   ]
  },
  {
   "cell_type": "markdown",
   "metadata": {},
   "source": [
    "## Evaluation"
   ]
  },
  {
   "cell_type": "markdown",
   "metadata": {},
   "source": [
    "### Accuracies per Query\n",
    "\n",
    "If the fitting sentence is under the top_k suggestion, we consider it as a hit."
   ]
  },
  {
   "cell_type": "code",
   "execution_count": 33,
   "metadata": {},
   "outputs": [
    {
     "name": "stdout",
     "output_type": "stream",
     "text": [
      "For Right To Information Accuracy is 1.0\n",
      "For Right To Rectification Or Deletion Accuracy is 1.0\n",
      "For Right To Data Portability Accuracy is 1.0\n",
      "For Right To Withdraw Consent Accuracy is 1.0\n",
      "For Right To Complain Accuracy is 1.0\n"
     ]
    }
   ],
   "source": [
    "hit_dict = {}\n",
    "for query_ident, query in queries.items():\n",
    "    query_id = query_ident[0]\n",
    "    query_name = query_ident[1]\n",
    "    \n",
    "    query_result = query_results[query_id]\n",
    "    found_labels = [sum(found_doc_labels, []) for found_doc_labels in query_result[\"found_labels\"]]\n",
    "    #scores = query_results[\"scores\"]  \n",
    "    hit_or_not = [True if query_id in found_doc_labels else False for found_doc_labels in found_labels]\n",
    "    hit_dict[query_id] = sum(hit_or_not)/len(hit_or_not)\n",
    "for query_id, search_result in hit_dict.items():\n",
    "    print(f\"For {query_names[query_id]} Accuracy is {hit_dict[query_id]}\")"
   ]
  }
 ],
 "metadata": {
  "kernelspec": {
   "display_name": "Python 3.9.13 ('pytorch_p39')",
   "language": "python",
   "name": "python3"
  },
  "language_info": {
   "codemirror_mode": {
    "name": "ipython",
    "version": 3
   },
   "file_extension": ".py",
   "mimetype": "text/x-python",
   "name": "python",
   "nbconvert_exporter": "python",
   "pygments_lexer": "ipython3",
   "version": "3.9.13"
  },
  "orig_nbformat": 4,
  "vscode": {
   "interpreter": {
    "hash": "eb71ac050f92a5d5e3cdea462f22e174d379ee0836c3076b1e7df4a375a19e34"
   }
  }
 },
 "nbformat": 4,
 "nbformat_minor": 2
}
