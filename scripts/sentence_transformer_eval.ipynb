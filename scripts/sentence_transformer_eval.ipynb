{
 "cells": [
  {
   "cell_type": "code",
   "execution_count": null,
   "metadata": {},
   "outputs": [],
   "source": []
  },
  {
   "cell_type": "markdown",
   "metadata": {},
   "source": [
    "# Sentence Transformer Evaluation"
   ]
  },
  {
   "cell_type": "code",
   "execution_count": null,
   "metadata": {},
   "outputs": [],
   "source": [
    "from sentence_transformers import SentenceTransformer\n",
    "import os\n",
    "from triplet_semantic_similarity_sbert import form_triplets, load_doc_col, split_doc_col, form_triplets\n",
    "from enum import Enum\n",
    "\n",
    "doc_col = load_doc_col()\n",
    "\n",
    "queries = {(1,\n",
    "            \"Right To Information\"): \"Das Bestehen eines Rechts auf Auskunft seitens des Verantwortlichen über die \"\n",
    "                                     \"betreffenden personenbezogenen Daten.\",\n",
    "           (2,\n",
    "            \"Right To Rectification Or Deletion\"): \"Die betroffene Person hat das Recht, von dem Verantwortlichen \"\n",
    "                                                   \"unverzüglich die Berichtigung sie betreffender unrichtiger \"\n",
    "                                                   \"personenbezogener Daten zu verlangen. Die betroffene Person hat \"\n",
    "                                                   \"das Recht, von dem Verantwortlichen zu verlangen, dass sie \"\n",
    "                                                   \"betreffende personenbezogene Daten unverzüglich gelöscht werden.\",\n",
    "           (3,\n",
    "            \"Right To Data Portability\"): \"Die betroffene Person hat das Recht, die sie betreffenden personenbezogenen \"\n",
    "                                          \"Daten, die sie einem Verantwortlichen bereitgestellt hat, in einem \"\n",
    "                                          \"strukturierten, gängigen und maschinenlesbaren Format zu erhalten.\",\n",
    "           (4, \"Right To Withdraw Consent\"): \"Das Bestehen eines Rechts, die Einwilligung jederzeit zu widerrufen.\",\n",
    "           (5, \"Right To Complain\"): \"Das Bestehen eines Beschwerderechts bei einer Aufsichtsbehörde.\"}\n",
    "\n",
    "class ModelPath(Enum):\n",
    "    \n",
    "    1 = \"\""
   ]
  },
  {
   "cell_type": "code",
   "execution_count": null,
   "metadata": {},
   "outputs": [],
   "source": [
    "query_id = 1\n",
    "query = queries[query_id]\n",
    "test_docs, train_docs = split_doc_col(doc_col, query_id)\n",
    "test_triplets = form_triplets(query_id, test_docs)\n",
    "model = SentenceTransformer.load(os.path.join(os.path.dirname(__file__), ModelPath(query_id)))"
   ]
  }
 ],
 "metadata": {
  "kernelspec": {
   "display_name": "Python 3.9.6 ('.venv': venv)",
   "language": "python",
   "name": "python3"
  },
  "language_info": {
   "name": "python",
   "version": "3.9.6"
  },
  "orig_nbformat": 4,
  "vscode": {
   "interpreter": {
    "hash": "c00a82eacfe0370be8326cca920297af08c3bb7bdac9e41c299bfef56ad4a128"
   }
  }
 },
 "nbformat": 4,
 "nbformat_minor": 2
}
