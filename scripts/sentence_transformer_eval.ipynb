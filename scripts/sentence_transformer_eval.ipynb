{
 "cells": [
  {
   "cell_type": "code",
   "execution_count": null,
   "metadata": {},
   "outputs": [],
   "source": []
  },
  {
   "cell_type": "markdown",
   "metadata": {},
   "source": [
    "# Sentence Transformer Evaluation"
   ]
  },
  {
   "cell_type": "code",
   "execution_count": null,
   "metadata": {},
   "outputs": [],
   "source": [
    "from sentence_transformers import SentenceTransformer, util\n",
    "import os\n",
    "from triplet_semantic_similarity_sbert import form_triplets, load_doc_col, split_doc_col, form_triplets\n",
    "from enum import Enum\n",
    "import torch\n",
    "\n",
    "\n",
    "TOP_K=10\n",
    "doc_col = load_doc_col()\n",
    "\n",
    "queries = {(1,\n",
    "            \"Right To Information\"): \"Das Bestehen eines Rechts auf Auskunft seitens des Verantwortlichen über die \"\n",
    "                                     \"betreffenden personenbezogenen Daten.\",\n",
    "           (2,\n",
    "            \"Right To Rectification Or Deletion\"): \"Die betroffene Person hat das Recht, von dem Verantwortlichen \"\n",
    "                                                   \"unverzüglich die Berichtigung sie betreffender unrichtiger \"\n",
    "                                                   \"personenbezogener Daten zu verlangen. Die betroffene Person hat \"\n",
    "                                                   \"das Recht, von dem Verantwortlichen zu verlangen, dass sie \"\n",
    "                                                   \"betreffende personenbezogene Daten unverzüglich gelöscht werden.\",\n",
    "           (3,\n",
    "            \"Right To Data Portability\"): \"Die betroffene Person hat das Recht, die sie betreffenden personenbezogenen \"\n",
    "                                          \"Daten, die sie einem Verantwortlichen bereitgestellt hat, in einem \"\n",
    "                                          \"strukturierten, gängigen und maschinenlesbaren Format zu erhalten.\",\n",
    "           (4, \"Right To Withdraw Consent\"): \"Das Bestehen eines Rechts, die Einwilligung jederzeit zu widerrufen.\",\n",
    "           (5, \"Right To Complain\"): \"Das Bestehen eines Beschwerderechts bei einer Aufsichtsbehörde.\"}\n",
    "\n",
    "query_names = {\n",
    "    1: \"Right To Information\",\n",
    "    2: \"Right To Rectification Or Deletion\",\n",
    "    3: \"Right To Data Portability\",\n",
    "    4: \"Right To Withdraw Consent\",\n",
    "    5: \"Right To Complain\"\n",
    "}\n",
    "\n",
    "\n",
    "class ModelPath(Enum):\n",
    "    \n",
    "    1 = \"\""
   ]
  },
  {
   "cell_type": "code",
   "execution_count": null,
   "metadata": {},
   "outputs": [],
   "source": [
    "eval_data_per_query = {}\n",
    "for id_tuple, query in queries.items():\n",
    "    query_id = id_tuple[0]\n",
    "    query_name = id_tuple[1]\n",
    "    model_path = os.path.join(os.path.dirname(__file__), ModelPath(query_id))\n",
    "\n",
    "    train_data, test_data, test_docs, train_docs = split_doc_col(doc_col, query_id)\n",
    "    test_triplets = form_triplets(query_id, test_docs)\n",
    "    model = SentenceTransformer.load()\n",
    "    eval_data_per_query[query_id] = {\"model\": model, \"test_triplets\": test_triplets, \"test_docs\": test_docs}\n"
   ]
  },
  {
   "cell_type": "code",
   "execution_count": null,
   "metadata": {},
   "outputs": [],
   "source": [
    "query_results = {}\n",
    "for query_ident, query in queries:\n",
    "    query_id = query_ident[0]\n",
    "    query_name = query_ident[1]\n",
    "    \n",
    "    eval_dict = eval_data_per_query[query_id]\n",
    "    model = eval_dict[\"model\"]\n",
    "    test_docs = eval_dict[\"test_docs\"]\n",
    "    test_triplets = eval_dict[\"test_triplets\"]\n",
    "    encoded_query = model.encode(query, convert_to_tensor=True)\n",
    "    \n",
    "    \n",
    "    found_labels = []\n",
    "    found_blobs = []\n",
    "    scores = []\n",
    "    embedded_docs = []\n",
    "    labels = []\n",
    "    for test_doc, doc_labels in test_docs:\n",
    "        embedded_corpus = model.encode(test_doc, convert_to_tensor=True)\n",
    "        cos_scores = util.cos_sim(encoded_query, embedded_corpus)[0]\n",
    "        top_results, indices = torch.topk(cos_scores, k=TOP_K)\n",
    "        indices = indices.to_list()\n",
    "        found_doc_blobs = [blob for idx, blob in enumerate(test_doc) if idx in indices]\n",
    "        found_doc_labels = [label for idx, label in enumerate(doc_labels) if idx in indices]\n",
    "        found_blobs.append(found_doc_blobs)\n",
    "        found_labels.append(found_doc_labels)\n",
    "        scores.append(top_results.to_list())\n",
    "        embedded_docs.append(embedded_corpus)\n",
    "        labels.extend(doc_labels)\n",
    "    \n",
    "    query_results[query_id] = {\"blobs\": found_blobs, \"labels\": found_labels, \"scores\": scores, \"encoded_query\": encoded_query, \"embedded_docs\": embedded_docs, \"labels\": labels}"
   ]
  },
  {
   "cell_type": "markdown",
   "metadata": {},
   "source": [
    "## Evaluation"
   ]
  },
  {
   "cell_type": "markdown",
   "metadata": {},
   "source": [
    "### Accuracies per Query\n",
    "\n",
    "If the fitting sentence is under the top_k suggestion, we consider it as a hit."
   ]
  },
  {
   "cell_type": "code",
   "execution_count": null,
   "metadata": {},
   "outputs": [],
   "source": [
    "hit_dict = {}\n",
    "for query_ident, query in queries:\n",
    "    query_id = query_ident[0]\n",
    "    query_name = query_ident[1]\n",
    "    \n",
    "    query_result = query_results[query_id]\n",
    "    found_labels = query_result[\"found_labels\"]\n",
    "    scores = query_results[\"scores\"]\n",
    "    for idx, found_doc_labels in enumerate(labels):\n",
    "        \n",
    "    hit_or_not = [True if query_id in found_doc_labels else False for found_doc_labels in found_labels]\n",
    "    hit_dict[query_id] = sum(hit_or_not)/len(hit_or_not)\n",
    "for query_id, search_result in hit_dict.items():\n",
    "    print(f\"For {query_names[query_id]} Accuracy is {hit_dict[query_id]}, with confidence score of: {}\")"
   ]
  }
 ],
 "metadata": {
  "kernelspec": {
   "display_name": "Python 3.9.6 ('.venv': venv)",
   "language": "python",
   "name": "python3"
  },
  "language_info": {
   "name": "python",
   "version": "3.9.6"
  },
  "orig_nbformat": 4,
  "vscode": {
   "interpreter": {
    "hash": "c00a82eacfe0370be8326cca920297af08c3bb7bdac9e41c299bfef56ad4a128"
   }
  }
 },
 "nbformat": 4,
 "nbformat_minor": 2
}
