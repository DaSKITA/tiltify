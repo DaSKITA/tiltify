{
 "cells": [
  {
   "cell_type": "code",
   "execution_count": 16,
   "metadata": {},
   "outputs": [],
   "source": [
    "from tiltify.data_structures.document_collection import DocumentCollection\n",
    "\n",
    "\n",
    "\n",
    "SUPPORTED_LABELS = [\n",
    "    'Right to Information',\n",
    "    'Right to Deletion',\n",
    "    'Right to Data Portability',\n",
    "    'Right to Withdraw Consent',\n",
    "    'Right to Complain'\n",
    "]\n",
    "\n",
    "\n",
    "\n",
    "TILT_LABELS = [\n",
    "    'rightToInformation--Description',\n",
    "    'rightToRectificationOrDeletion--Description',\n",
    "    'rightToDataPortability--Description',\n",
    "    'rightToWithdrawConsent--Description',\n",
    "    'rightToComplain--Description'\n",
    "]\n"
   ]
  },
  {
   "cell_type": "code",
   "execution_count": 10,
   "metadata": {},
   "outputs": [],
   "source": [
    "document_collection = DocumentCollection.from_json_files()\n",
    "\n",
    "\n",
    "all_blobs = []\n",
    "for document in document_collection:\n",
    "    for blob in document.blobs:\n",
    "        all_blobs.append(blob)\n",
    "\n",
    "all_annotations = []\n",
    "for blob in all_blobs:\n",
    "    for annotation in blob.annotations:\n",
    "        if annotation.label in TILT_LABELS:\n",
    "            all_annotations.append(annotation.label)\n",
    "        "
   ]
  },
  {
   "cell_type": "code",
   "execution_count": 26,
   "metadata": {},
   "outputs": [],
   "source": [
    "from collections import Counter\n",
    "import pandas as pd\n",
    "\n",
    "label_mapping = {\n",
    "            train_label: sup_label for sup_label, train_label in zip(SUPPORTED_LABELS, TILT_LABELS)}\n",
    "counts = Counter(all_annotations)\n",
    "counts = pd.DataFrame([counts])\n",
    "counts.columns = [label_mapping[col_name] for col_name in counts.columns]\n",
    "counts = counts.T\n",
    "counts.columns = [\"Counts\"]\n",
    "counts.to_latex(\"/home/gebauer/Desktop/repo/tiltify/experiments/IWPE/counts.tex\")"
   ]
  },
  {
   "cell_type": "code",
   "execution_count": 12,
   "metadata": {},
   "outputs": [
    {
     "data": {
      "text/plain": [
       "60"
      ]
     },
     "execution_count": 12,
     "metadata": {},
     "output_type": "execute_result"
    }
   ],
   "source": [
    "len(document_collection)"
   ]
  },
  {
   "cell_type": "code",
   "execution_count": 13,
   "metadata": {},
   "outputs": [
    {
     "data": {
      "text/plain": [
       "16635"
      ]
     },
     "execution_count": 13,
     "metadata": {},
     "output_type": "execute_result"
    }
   ],
   "source": [
    "len(all_blobs)"
   ]
  },
  {
   "cell_type": "code",
   "execution_count": 18,
   "metadata": {},
   "outputs": [
    {
     "data": {
      "text/plain": [
       "{'rightToInformation--Description': 'Right to Information',\n",
       " 'rightToRectificationOrDeletion--Description': 'Right to Deletion',\n",
       " 'rightToDataPortability--Description': 'Right to Data Portability',\n",
       " 'rightToWithdrawConsent--Description': 'Right to Withdraw Consent',\n",
       " 'rightToComplain--Description': 'Right to Complain'}"
      ]
     },
     "execution_count": 18,
     "metadata": {},
     "output_type": "execute_result"
    }
   ],
   "source": [
    "\n",
    "label_mapping"
   ]
  },
  {
   "cell_type": "code",
   "execution_count": null,
   "metadata": {},
   "outputs": [],
   "source": []
  }
 ],
 "metadata": {
  "kernelspec": {
   "display_name": ".venv",
   "language": "python",
   "name": "python3"
  },
  "language_info": {
   "codemirror_mode": {
    "name": "ipython",
    "version": 3
   },
   "file_extension": ".py",
   "mimetype": "text/x-python",
   "name": "python",
   "nbconvert_exporter": "python",
   "pygments_lexer": "ipython3",
   "version": "3.9.6"
  },
  "orig_nbformat": 4
 },
 "nbformat": 4,
 "nbformat_minor": 2
}
