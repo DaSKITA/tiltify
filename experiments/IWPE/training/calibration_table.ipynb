{
 "cells": [
  {
   "cell_type": "code",
   "execution_count": 9,
   "metadata": {},
   "outputs": [],
   "source": [
    "import json\n",
    "import os\n",
    "import numpy as np\n",
    "import pandas as pd\n",
    "\n",
    "right_tos = [\n",
    "    'Right to Information',\n",
    "    'Right to Deletion',\n",
    "    'Right to Data Portability',\n",
    "    'Right to Withdraw Consent',\n",
    "    'Right to Complain'\n",
    "]\n",
    "\n",
    "model_types = [\n",
    "    # TestModel,\n",
    "    \"BinaryBERTModel\",\n",
    "    \"SentenceBert\",\n",
    "    \"GaussianNBModel\"\n",
    "    ]"
   ]
  },
  {
   "cell_type": "code",
   "execution_count": 5,
   "metadata": {},
   "outputs": [],
   "source": [
    "results_folder = \"/home/gebauer/Desktop/repo/tiltify/experiments/IWPE/results_2\"\n",
    "brier_file = os.path.join(results_folder, \"brier_scores.json\")\n",
    "\n",
    "with open(brier_file, \"r\") as f:\n",
    "    brier_scores = json.load(f)\n",
    "    "
   ]
  },
  {
   "cell_type": "code",
   "execution_count": 11,
   "metadata": {},
   "outputs": [
    {
     "data": {
      "text/html": [
       "<div>\n",
       "<style scoped>\n",
       "    .dataframe tbody tr th:only-of-type {\n",
       "        vertical-align: middle;\n",
       "    }\n",
       "\n",
       "    .dataframe tbody tr th {\n",
       "        vertical-align: top;\n",
       "    }\n",
       "\n",
       "    .dataframe thead th {\n",
       "        text-align: right;\n",
       "    }\n",
       "</style>\n",
       "<table border=\"1\" class=\"dataframe\">\n",
       "  <thead>\n",
       "    <tr style=\"text-align: right;\">\n",
       "      <th></th>\n",
       "      <th>BinaryBERTModel</th>\n",
       "      <th>SentenceBert</th>\n",
       "      <th>GaussianNBModel</th>\n",
       "    </tr>\n",
       "  </thead>\n",
       "  <tbody>\n",
       "    <tr>\n",
       "      <th>Right to Information</th>\n",
       "      <td>0.25 (0.0)</td>\n",
       "      <td>0.03 (0.0)</td>\n",
       "      <td>0.51 (0.0)</td>\n",
       "    </tr>\n",
       "    <tr>\n",
       "      <th>Right to Deletion</th>\n",
       "      <td>0.25 (0.0)</td>\n",
       "      <td>0.05 (0.01)</td>\n",
       "      <td>0.48 (0.0)</td>\n",
       "    </tr>\n",
       "    <tr>\n",
       "      <th>Right to Data Portability</th>\n",
       "      <td>0.24 (0.0)</td>\n",
       "      <td>0.03 (0.0)</td>\n",
       "      <td>0.46 (0.0)</td>\n",
       "    </tr>\n",
       "    <tr>\n",
       "      <th>Right to Withdraw Consent</th>\n",
       "      <td>0.25 (0.01)</td>\n",
       "      <td>0.04 (0.0)</td>\n",
       "      <td>0.53 (0.0)</td>\n",
       "    </tr>\n",
       "    <tr>\n",
       "      <th>Right to Complain</th>\n",
       "      <td>0.26 (0.02)</td>\n",
       "      <td>0.01 (0.0)</td>\n",
       "      <td>0.48 (0.0)</td>\n",
       "    </tr>\n",
       "  </tbody>\n",
       "</table>\n",
       "</div>"
      ],
      "text/plain": [
       "                          BinaryBERTModel SentenceBert GaussianNBModel\n",
       "Right to Information           0.25 (0.0)   0.03 (0.0)      0.51 (0.0)\n",
       "Right to Deletion              0.25 (0.0)  0.05 (0.01)      0.48 (0.0)\n",
       "Right to Data Portability      0.24 (0.0)   0.03 (0.0)      0.46 (0.0)\n",
       "Right to Withdraw Consent     0.25 (0.01)   0.04 (0.0)      0.53 (0.0)\n",
       "Right to Complain             0.26 (0.02)   0.01 (0.0)      0.48 (0.0)"
      ]
     },
     "execution_count": 11,
     "metadata": {},
     "output_type": "execute_result"
    }
   ],
   "source": [
    "df = pd.DataFrame([], index=right_tos, columns=model_types)\n",
    "\n",
    "for key, value in brier_scores.items():\n",
    "    key_parts = key.split(\"__\")\n",
    "    model_name = key_parts[0]\n",
    "    label = key_parts[1]\n",
    "    mean = round(np.mean(value), 2)\n",
    "    std = round(np.std(value), 2)\n",
    "    df.loc[label, model_name] = f\"{mean} ({std})\"\n",
    "\n",
    "df\n",
    "    "
   ]
  },
  {
   "cell_type": "code",
   "execution_count": 13,
   "metadata": {},
   "outputs": [],
   "source": [
    "latex_path = os.path.join(results_folder, \"brier_scores.tex\")\n",
    "df.to_latex(latex_path)"
   ]
  },
  {
   "cell_type": "code",
   "execution_count": null,
   "metadata": {},
   "outputs": [],
   "source": []
  }
 ],
 "metadata": {
  "kernelspec": {
   "display_name": ".venv",
   "language": "python",
   "name": "python3"
  },
  "language_info": {
   "codemirror_mode": {
    "name": "ipython",
    "version": 3
   },
   "file_extension": ".py",
   "mimetype": "text/x-python",
   "name": "python",
   "nbconvert_exporter": "python",
   "pygments_lexer": "ipython3",
   "version": "3.9.6"
  },
  "orig_nbformat": 4
 },
 "nbformat": 4,
 "nbformat_minor": 2
}
