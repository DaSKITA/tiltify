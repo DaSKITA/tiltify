{
 "cells": [
  {
   "attachments": {},
   "cell_type": "markdown",
   "metadata": {},
   "source": [
    "# Learning Curves\n",
    "\n",
    "\n",
    "We aim to find out how strong every model is affected by additional training examples. We base our insights on a similar approach to: https://scikit-learn.org/stable/auto_examples/model_selection/plot_learning_curve.html#sphx-glr-auto-examples-model-selection-plot-learning-curve-py\n",
    "\n",
    "__Hypothesis:__ We would expect to see a stronger overall performance in F1-Scores of Transformers based models, but also stronger increases in performance (F1-Scores) for every sample added. Samples are added by percentage of overall training data.\n",
    "\n",
    "We perform a 0.33 split between training and testdata\n"
   ]
  },
  {
   "attachments": {},
   "cell_type": "markdown",
   "metadata": {},
   "source": [
    "## Load Results"
   ]
  },
  {
   "cell_type": "code",
   "execution_count": 1,
   "metadata": {},
   "outputs": [
    {
     "name": "stdout",
     "output_type": "stream",
     "text": [
      "Environment Variables not found. Entering Test Mode!\n"
     ]
    }
   ],
   "source": [
    "import os\n",
    "from tiltify.config import Path\n",
    "from glob import glob\n",
    "import json\n",
    "\n",
    "iwpe_dir = os.path.join(Path.root_path, \"experiments/IWPE/results\")\n",
    "results_per_model = {}\n",
    "for results_path in glob(os.path.join(iwpe_dir, \"*/results.json\")):\n",
    "    model_name = results_path.split(\"/\")[-2]\n",
    "    with open(results_path, \"r\") as f:\n",
    "        results = json.load(f)\n",
    "    results_per_model[model_name] = results\n"
   ]
  },
  {
   "attachments": {},
   "cell_type": "markdown",
   "metadata": {},
   "source": [
    "**F1 Scores from True are only given, as documents without any rights will have recall of 1.**\n",
    "**All logits and preds are also given, as one may calculate correlation or something similar**"
   ]
  },
  {
   "cell_type": "code",
   "execution_count": 2,
   "metadata": {},
   "outputs": [
    {
     "ename": "IndexError",
     "evalue": "index 3 is out of bounds for axis 0 with size 3",
     "output_type": "error",
     "traceback": [
      "\u001b[0;31m---------------------------------------------------------------------------\u001b[0m",
      "\u001b[0;31mIndexError\u001b[0m                                Traceback (most recent call last)",
      "\u001b[1;32m/home/gebauer/Desktop/repo/tiltify/experiments/IWPE/learning_curves.ipynb Cell 5\u001b[0m in \u001b[0;36m<module>\u001b[0;34m\u001b[0m\n\u001b[1;32m     <a href='vscode-notebook-cell:/home/gebauer/Desktop/repo/tiltify/experiments/IWPE/learning_curves.ipynb#W4sZmlsZQ%3D%3D?line=11'>12</a>\u001b[0m learning_df \u001b[39m=\u001b[39m create_learning_df(results, type_of_results\u001b[39m=\u001b[39m\u001b[39m\"\u001b[39m\u001b[39m5_k_rank_metrics\u001b[39m\u001b[39m\"\u001b[39m)\n\u001b[1;32m     <a href='vscode-notebook-cell:/home/gebauer/Desktop/repo/tiltify/experiments/IWPE/learning_curves.ipynb#W4sZmlsZQ%3D%3D?line=12'>13</a>\u001b[0m plot_idx \u001b[39m=\u001b[39m learning_df[\u001b[39m\"\u001b[39m\u001b[39mtrain_size\u001b[39m\u001b[39m\"\u001b[39m]\n\u001b[0;32m---> <a href='vscode-notebook-cell:/home/gebauer/Desktop/repo/tiltify/experiments/IWPE/learning_curves.ipynb#W4sZmlsZQ%3D%3D?line=13'>14</a>\u001b[0m ax[i]\u001b[39m.\u001b[39mset_ylim([\u001b[39m-\u001b[39m\u001b[39m0.1\u001b[39m, \u001b[39m1.1\u001b[39m])\n\u001b[1;32m     <a href='vscode-notebook-cell:/home/gebauer/Desktop/repo/tiltify/experiments/IWPE/learning_curves.ipynb#W4sZmlsZQ%3D%3D?line=14'>15</a>\u001b[0m sns\u001b[39m.\u001b[39mlineplot(data\u001b[39m=\u001b[39mlearning_df, x\u001b[39m=\u001b[39mplot_idx, y\u001b[39m=\u001b[39m\u001b[39m\"\u001b[39m\u001b[39mtrain_f1_scores\u001b[39m\u001b[39m\"\u001b[39m, ax\u001b[39m=\u001b[39max[i])\n\u001b[1;32m     <a href='vscode-notebook-cell:/home/gebauer/Desktop/repo/tiltify/experiments/IWPE/learning_curves.ipynb#W4sZmlsZQ%3D%3D?line=15'>16</a>\u001b[0m sns\u001b[39m.\u001b[39mlineplot(data\u001b[39m=\u001b[39mlearning_df, x\u001b[39m=\u001b[39mplot_idx, y\u001b[39m=\u001b[39m\u001b[39m\"\u001b[39m\u001b[39mtest_f1_scores\u001b[39m\u001b[39m\"\u001b[39m, ax\u001b[39m=\u001b[39max[i])\n",
      "\u001b[0;31mIndexError\u001b[0m: index 3 is out of bounds for axis 0 with size 3"
     ]
    },
    {
     "data": {
      "image/png": "[encoded data removed]",
      "text/plain": [
       "<Figure size 1152x576 with 3 Axes>"
      ]
     },
     "metadata": {
      "needs_background": "light"
     },
     "output_type": "display_data"
    }
   ],
   "source": [
    "import seaborn as sns\n",
    "import matplotlib.pyplot as plt\n",
    "from utils import create_learning_df\n",
    "\n",
    "\n",
    "\n",
    "fig, ax = plt.subplots(3, sharex=\"col\", sharey=\"row\")\n",
    "fig.set_size_inches(16, 8)\n",
    "i = 0\n",
    "for model_name, results in results_per_model.items():\n",
    "\n",
    "    learning_df = create_learning_df(results, type_of_results=\"5_k_rank_metrics\")\n",
    "    plot_idx = learning_df[\"train_size\"]\n",
    "    ax[i].set_ylim([-0.1, 1.1])\n",
    "    sns.lineplot(data=learning_df, x=plot_idx, y=\"train_f1_scores\", ax=ax[i])\n",
    "    sns.lineplot(data=learning_df, x=plot_idx, y=\"test_f1_scores\", ax=ax[i])\n",
    "    ax[i].set_ylabel(\"\")\n",
    "    ax[i].set_xlabel(\"\")\n",
    "    ax[i].fill_between(plot_idx, learning_df[\"min_train_f1_scores\"], learning_df[\"max_train_f1_scores\"], alpha=.2)\n",
    "    ax[i].fill_between(plot_idx, learning_df[\"min_test_f1_scores\"], learning_df[\"max_test_f1_scores\"], alpha=.2)\n",
    "    ax[i].set_title(model_name)\n",
    "    i+=1\n",
    "\n",
    "fig.supxlabel(\"Trainset Size\")\n",
    "fig.supylabel(\"F1-Scores\")\n",
    "# lines_labels = [single_ax.get_legend_handles_labels() for single_ax in fig.axes]\n",
    "# lines, labels = [sum(lol, []) for lol in zip(*lines_labels)]\n",
    "fig.legend([\"train\", \"test\"], loc=\"lower right\", bbox_to_anchor=(1,1), bbox_transform=plt.gcf().transFigure)\n",
    "plt.tight_layout()\n",
    "plt.savefig(os.path.join(iwpe_dir, \"learning_curves.png\"))"
   ]
  },
  {
   "cell_type": "code",
   "execution_count": null,
   "metadata": {},
   "outputs": [],
   "source": [
    "import pandas as pd\n",
    "import numpy as np\n",
    "\n",
    "metrics = [\"5_k_rank_metrics\", \"10_k_rank_metrics\", \"25_k_rank_metrics\", \"classify_metrics\"]\n",
    "columns_df = metrics + [\"support\"]\n",
    "results_df = pd.DataFrame([], index=results_per_model.keys(), columns=columns_df)\n",
    "for metrics_type in metrics:\n",
    "    for model_name, results in results_per_model.items():\n",
    "        learning_df = create_learning_df(results, type_of_results=metrics_type)\n",
    "        test_f1_scores = learning_df[\"test_f1_scores\"].tolist()[-1]\n",
    "        min_scores = learning_df[\"min_test_f1_scores\"].tolist()[-1]\n",
    "        max_scores = learning_df[\"max_test_f1_scores\"].tolist()[-1]\n",
    "        std_scores = np.std(np.array([min_scores, max_scores]))\n",
    "        results_df.loc[model_name, metrics_type] = f\"{round(test_f1_scores, 2)} ({round(std_scores, 2)})\"\n",
    "        if metrics_type != \"classify_metrics\":\n",
    "            results_df.loc[model_name, \"support\"] = int(learning_df[\"support\"].tolist()[-1])\n",
    "        else:\n",
    "            pass\n",
    "results_df = results_df.T\n",
    "results_df.head()\n",
    "results_df.to_latex(os.path.join(iwpe_dir, \"results.tex\"), index=True)\n",
    "    "
   ]
  },
  {
   "cell_type": "code",
   "execution_count": null,
   "metadata": {},
   "outputs": [
    {
     "data": {
      "text/html": [
       "<div>\n",
       "<style scoped>\n",
       "    .dataframe tbody tr th:only-of-type {\n",
       "        vertical-align: middle;\n",
       "    }\n",
       "\n",
       "    .dataframe tbody tr th {\n",
       "        vertical-align: top;\n",
       "    }\n",
       "\n",
       "    .dataframe thead th {\n",
       "        text-align: right;\n",
       "    }\n",
       "</style>\n",
       "<table border=\"1\" class=\"dataframe\">\n",
       "  <thead>\n",
       "    <tr style=\"text-align: right;\">\n",
       "      <th></th>\n",
       "      <th>train_size</th>\n",
       "      <th>train_f1_scores</th>\n",
       "      <th>test_f1_scores</th>\n",
       "      <th>support</th>\n",
       "      <th>max_train_f1_scores</th>\n",
       "      <th>max_test_f1_scores</th>\n",
       "      <th>max_support</th>\n",
       "      <th>min_train_f1_scores</th>\n",
       "      <th>min_test_f1_scores</th>\n",
       "      <th>min_support</th>\n",
       "    </tr>\n",
       "  </thead>\n",
       "  <tbody>\n",
       "    <tr>\n",
       "      <th>0</th>\n",
       "      <td>0.2</td>\n",
       "      <td>0.468027</td>\n",
       "      <td>0.374928</td>\n",
       "      <td>4130.0</td>\n",
       "      <td>0.468221</td>\n",
       "      <td>0.374928</td>\n",
       "      <td>4130</td>\n",
       "      <td>0.467833</td>\n",
       "      <td>0.374928</td>\n",
       "      <td>4130</td>\n",
       "    </tr>\n",
       "    <tr>\n",
       "      <th>1</th>\n",
       "      <td>0.4</td>\n",
       "      <td>0.429249</td>\n",
       "      <td>0.345434</td>\n",
       "      <td>4130.0</td>\n",
       "      <td>0.429453</td>\n",
       "      <td>0.345678</td>\n",
       "      <td>4130</td>\n",
       "      <td>0.429046</td>\n",
       "      <td>0.345190</td>\n",
       "      <td>4130</td>\n",
       "    </tr>\n",
       "    <tr>\n",
       "      <th>2</th>\n",
       "      <td>0.6</td>\n",
       "      <td>0.412397</td>\n",
       "      <td>0.337069</td>\n",
       "      <td>4130.0</td>\n",
       "      <td>0.412490</td>\n",
       "      <td>0.337193</td>\n",
       "      <td>4130</td>\n",
       "      <td>0.412304</td>\n",
       "      <td>0.336945</td>\n",
       "      <td>4130</td>\n",
       "    </tr>\n",
       "    <tr>\n",
       "      <th>3</th>\n",
       "      <td>0.8</td>\n",
       "      <td>0.406500</td>\n",
       "      <td>0.340037</td>\n",
       "      <td>4130.0</td>\n",
       "      <td>0.406500</td>\n",
       "      <td>0.340037</td>\n",
       "      <td>4130</td>\n",
       "      <td>0.406500</td>\n",
       "      <td>0.340037</td>\n",
       "      <td>4130</td>\n",
       "    </tr>\n",
       "    <tr>\n",
       "      <th>4</th>\n",
       "      <td>1.0</td>\n",
       "      <td>0.396252</td>\n",
       "      <td>0.331582</td>\n",
       "      <td>4130.0</td>\n",
       "      <td>0.396293</td>\n",
       "      <td>0.331582</td>\n",
       "      <td>4130</td>\n",
       "      <td>0.396210</td>\n",
       "      <td>0.331582</td>\n",
       "      <td>4130</td>\n",
       "    </tr>\n",
       "  </tbody>\n",
       "</table>\n",
       "</div>"
      ],
      "text/plain": [
       "   train_size  train_f1_scores  test_f1_scores  support  max_train_f1_scores  \\\n",
       "0         0.2         0.468027        0.374928   4130.0             0.468221   \n",
       "1         0.4         0.429249        0.345434   4130.0             0.429453   \n",
       "2         0.6         0.412397        0.337069   4130.0             0.412490   \n",
       "3         0.8         0.406500        0.340037   4130.0             0.406500   \n",
       "4         1.0         0.396252        0.331582   4130.0             0.396293   \n",
       "\n",
       "   max_test_f1_scores  max_support  min_train_f1_scores  min_test_f1_scores  \\\n",
       "0            0.374928         4130             0.467833            0.374928   \n",
       "1            0.345678         4130             0.429046            0.345190   \n",
       "2            0.337193         4130             0.412304            0.336945   \n",
       "3            0.340037         4130             0.406500            0.340037   \n",
       "4            0.331582         4130             0.396210            0.331582   \n",
       "\n",
       "   min_support  \n",
       "0         4130  \n",
       "1         4130  \n",
       "2         4130  \n",
       "3         4130  \n",
       "4         4130  "
      ]
     },
     "execution_count": 27,
     "metadata": {},
     "output_type": "execute_result"
    }
   ],
   "source": [
    "learning_df.head()"
   ]
  },
  {
   "cell_type": "code",
   "execution_count": null,
   "metadata": {},
   "outputs": [],
   "source": []
  }
 ],
 "metadata": {
  "kernelspec": {
   "display_name": ".venv",
   "language": "python",
   "name": "python3"
  },
  "language_info": {
   "codemirror_mode": {
    "name": "ipython",
    "version": 3
   },
   "file_extension": ".py",
   "mimetype": "text/x-python",
   "name": "python",
   "nbconvert_exporter": "python",
   "pygments_lexer": "ipython3",
   "version": "3.9.6"
  },
  "orig_nbformat": 4,
  "vscode": {
   "interpreter": {
    "hash": "c00a82eacfe0370be8326cca920297af08c3bb7bdac9e41c299bfef56ad4a128"
   }
  }
 },
 "nbformat": 4,
 "nbformat_minor": 2
}
