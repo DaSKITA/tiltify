{
 "cells": [
  {
   "attachments": {},
   "cell_type": "markdown",
   "metadata": {},
   "source": [
    "# Learning Curves\n",
    "\n",
    "\n",
    "We aim to find out how strong every model is affected by additional training examples. We base our insights on a similar approach to: https://scikit-learn.org/stable/auto_examples/model_selection/plot_learning_curve.html#sphx-glr-auto-examples-model-selection-plot-learning-curve-py\n",
    "\n",
    "__Hypothesis:__ We would expect to see a stronger overall performance in F1-Scores of Transformers based models, but also stronger increases in performance (F1-Scores) for every sample added. Samples are added by percentage of overall training data.\n",
    "\n",
    "We perform a 0.33 split between training and testdata"
   ]
  },
  {
   "attachments": {},
   "cell_type": "markdown",
   "metadata": {},
   "source": [
    "## Load Results"
   ]
  },
  {
   "cell_type": "code",
   "execution_count": 4,
   "metadata": {},
   "outputs": [],
   "source": [
    "import os\n",
    "from tiltify.config import Path\n",
    "from glob import glob\n",
    "import json\n",
    "\n",
    "iwpe_dir = os.path.join(Path.root_path, \"experiments/IWPE/training\")\n",
    "results_per_model = {}\n",
    "for results_path in glob(os.path.join(iwpe_dir, \"*/results.json\")):\n",
    "    model_name = results_path.split(\"/\")[-2]\n",
    "    with open(results_path, \"r\") as f:\n",
    "        results = json.load(f)\n",
    "    results_per_model[model_name] = results\n"
   ]
  },
  {
   "cell_type": "code",
   "execution_count": 11,
   "metadata": {},
   "outputs": [
    {
     "data": {
      "image/png": "[encoded data removed]",
      "text/plain": [
       "<Figure size 432x288 with 4 Axes>"
      ]
     },
     "metadata": {
      "needs_background": "light"
     },
     "output_type": "display_data"
    }
   ],
   "source": [
    "import seaborn as sns\n",
    "import matplotlib.pyplot as plt\n",
    "from utils import create_learning_df\n",
    "\n",
    "\n",
    "\n",
    "fig, ax = plt.subplots(2, 2, sharex=\"col\", sharey=\"row\")\n",
    "fig.set_size_inches(16, 8)\n",
    "\n",
    "k = 0\n",
    "i = 0\n",
    "j = 0\n",
    "for model_name, results in results_per_model.items():\n",
    "    if k > 2:\n",
    "        i = 1\n",
    "    else: \n",
    "        i = 0\n",
    "    if k in [1, 3]:\n",
    "        j = 1\n",
    "    else:\n",
    "        j = 0\n",
    "\n",
    "    learning_df = create_learning_df(results)\n",
    "    plot_idx = learning_df[\"train_size\"]\n",
    "    ax[i, j].set_ylim([0, 1])\n",
    "    sns.lineplot(data=learning_df, x=plot_idx, y=\"train_f1_scores\", ax=ax[i,j])\n",
    "    sns.lineplot(data=learning_df, x=plot_idx, y=\"test_f1_scores\", ax=ax[i,j])\n",
    "    ax[i, j].fill_between(plot_idx, learning_df[\"min_train_f1_scores\"], learning_df[\"max_train_f1_scores\"], alpha=.2)\n",
    "    ax[i, j].fill_between(plot_idx, learning_df[\"min_test_f1_scores\"], learning_df[\"max_test_f1_scores\"], alpha=.2)\n",
    "    ax[i, j].set_title(model_name)\n",
    "    k += 1\n",
    "\n",
    "lines_labels = [single_ax.get_legend_handles_labels() for single_ax in fig.axes]\n",
    "lines, labels = [sum(lol, []) for lol in zip(*lines_labels)]\n",
    "fig.legend(lines, sorted(set(labels)), loc=\"lower right\", ncol=2, bbox_to_anchor=(1,1), bbox_transform=plt.gcf().transFigure)\n",
    "plt.tight_layout()\n"
   ]
  },
  {
   "cell_type": "code",
   "execution_count": null,
   "metadata": {},
   "outputs": [],
   "source": []
  }
 ],
 "metadata": {
  "kernelspec": {
   "display_name": ".venv",
   "language": "python",
   "name": "python3"
  },
  "language_info": {
   "codemirror_mode": {
    "name": "ipython",
    "version": 3
   },
   "file_extension": ".py",
   "mimetype": "text/x-python",
   "name": "python",
   "nbconvert_exporter": "python",
   "pygments_lexer": "ipython3",
   "version": "3.9.6"
  },
  "orig_nbformat": 4,
  "vscode": {
   "interpreter": {
    "hash": "c00a82eacfe0370be8326cca920297af08c3bb7bdac9e41c299bfef56ad4a128"
   }
  }
 },
 "nbformat": 4,
 "nbformat_minor": 2
}
